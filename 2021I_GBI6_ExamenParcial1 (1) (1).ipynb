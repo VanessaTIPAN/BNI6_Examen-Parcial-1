{
 "cells": [
  {
   "cell_type": "markdown",
   "metadata": {},
   "source": [
    "<img src=\"https://www.ikiam.edu.ec/img/logo-ikiam-grey.png\" width=300 height=240 />\n",
    "\n",
    "# EXAMEN PARCIAL 1\n",
    "\n",
    "## GBI6-2021II: BIOINFORMÁTICA\n",
    "\n",
    "**Apellidos, Nombres** <--- Tipan Vanessa\n",
    "\n",
    "**11-01-2021**"
   ]
  },
  {
   "cell_type": "code",
   "execution_count": null,
   "metadata": {},
   "outputs": [],
   "source": []
  },
  {
   "cell_type": "markdown",
   "metadata": {},
   "source": [
    "<font color='red'>NO AGREGUE NUEVAS CELDAS, UTILICE ÚNICAMENTE LAS QUE ESTÁN CREADAS</font>"
   ]
  },
  {
   "cell_type": "code",
   "execution_count": null,
   "metadata": {},
   "outputs": [],
   "source": []
  },
  {
   "attachments": {},
   "cell_type": "markdown",
   "metadata": {},
   "source": [
    "# 1. UNI\n",
    "\n",
    "## Ejercicio 1\n",
    "Escriba aquì el enunciado\n",
    "\n",
    "Coloque aquí la captura de pantalla del ejercicio 1 (borre esta línea cuando finalice)\n",
    "\n",
    "<img src=\"![Eje1.jpeg](attachment:Eje1.jpeg)\" width=600 height=450 />\n",
    "\n",
    "\n",
    "## Ejercicio 2\n",
    "Escriba aquì el enunciado\n",
    "\n",
    "\n",
    "<img src=\"![Eje2..jpeg](attachment:Eje2..jpeg)\" width=600 height=450 />\n",
    "\n",
    "\n",
    "## Ejercicio 3\n",
    "Escriba aquí el enunciado\n",
    "\n",
    "Coloque aquí la captura de pantalla del ejercicio 3 (borre esta línea cuando finalice)\n",
    "\n",
    "<img src=\"![Eje3.jpeg](attachment:Eje3.jpeg)\" width=600 height=450 />\n",
    "\n",
    "Escriba aquí alguna explicación del ejercicio 3 si lo considera necesario (borre esta línea cuando finalice)\n",
    "\n",
    "## Ejercicio 4\n",
    "Escriba aquí el enunciado\n"
   ]
  },
  {
   "cell_type": "code",
   "execution_count": null,
   "metadata": {},
   "outputs": [],
   "source": []
  },
  {
   "cell_type": "code",
   "execution_count": 8,
   "metadata": {},
   "outputs": [
    {
     "data": {
      "text/html": [
       "<iframe width=\"560\" height=\"315\" src=\"https://www.youtube.com/embed/41X-dTpNIIo\" title=\"YouTube video player\" frameborder=\"0\" allow=\"accelerometer; autoplay; clipboard-write; encrypted-media; gyroscope; picture-in-picture\" allowfullscreen></iframe>"
      ],
      "text/plain": [
       "<IPython.core.display.HTML object>"
      ]
     },
     "execution_count": 8,
     "metadata": {},
     "output_type": "execute_result"
    }
   ],
   "source": [
    "# Coloque aquí su video del ejercicio 4\n",
    "from IPython.display import HTML\n",
    "HTML('<iframe width=\"560\" height=\"315\" src=\"https://www.youtube.com/embed/41X-dTpNIIo\" title=\"YouTube video player\" frameborder=\"0\" allow=\"accelerometer; autoplay; clipboard-write; encrypted-media; gyroscope; picture-in-picture\" allowfullscreen></iframe>')\n",
    "\n",
    "     \n",
    "     \n"
   ]
  },
  {
   "cell_type": "markdown",
   "metadata": {},
   "source": [
    "Escriba aquí alguna explicación del ejercicio 4 si lo considera necesario (borre esta línea cuando finalice)\n",
    "\n",
    "## Ejercicio 5\n",
    "Escriba aquí el enunciado\n"
   ]
  },
  {
   "cell_type": "code",
   "execution_count": 7,
   "metadata": {},
   "outputs": [],
   "source": [
    "# Coloque aquí su video del ejercicio 5\n",
    "from IPython.display import HTML\n"
   ]
  },
  {
   "attachments": {},
   "cell_type": "markdown",
   "metadata": {
    "jp-MarkdownHeadingCollapsed": true,
    "tags": []
   },
   "source": [
    "Escriba aquí alguna explicación del ejercicio 5 si lo considera necesario (borre esta línea cuando finalice)\n",
    "\n",
    "# 2. CONTROL DE LA VERSIÓN\n",
    "## Pregunta 6\n",
    "1. Cree en GitHub un repositorio de nombre ```GBI6_ExamenParcial1```. \n",
    "2. Cree un archivo ```Readme.md``` que debe tener lo siguiente: \n",
    "- Datos personales\n",
    "- Características del computador\n",
    "- Programas utilizados\n",
    "- Explicación de la data utilizada\n",
    "\n",
    "\n",
    "## Pregunta 7\n",
    "1. Cada vez que resuelva un ejercicio (del 1 al 10), utilizando Git Bash, GitHub Desktop o Atom realice un *git push* con el mensaje: \n",
    "\n",
    "\n",
    "<font color='red'>Apellido Nombre ha resuelto el ejercicio 1</font> % Cambie con sus apellidos y nombres; y con el número de ejercicio que corresponda \n",
    "\n",
    "2. Coloque aquí las capturas de pantalla para cada git push realizado desde Git Bash, GitHub Desktop o Atom. \n",
    "\n",
    "- Control de versión ejercicio 1\n",
    "\n",
    "<img src=\"![Eje1push.jpeg](attachment:Eje1push.jpeg)\" width=600 height=450 />\n",
    "\n",
    "- Control de versión ejercicio 2\n",
    "\n",
    "<img src=\"![Eje2push.jpeg](attachment:Eje2push.jpeg)\" width=600 height=450 />\n",
    "\n",
    "- Control de versión ejercicio 3\n",
    "\n",
    "<img src=\"![Eje3push.jpeg](attachment:Eje3push.jpeg)\" width=600 height=450 />\n",
    "\n",
    "- Control de versión ejercicio 4\n",
    "\n",
    "<img src=\"![Eje4push.jpeg](attachment:Eje4push.jpeg)\" width=600 height=450 />\n",
    "\n",
    "\n",
    "- Control de versión ejercicio 8\n",
    "\n",
    "<img src=\"![Ejer8.jpeg](attachment:Ejer8.jpeg)\" width=600 height=450 />\n",
    "\n",
    "\n",
    "- Control de versión ejercicio 10\n",
    "\n",
    "<img src=\"![Ejer10.jpeg](attachment:Ejer10.jpeg)\" width=600 height=450 /> \n",
    "\n"
   ]
  },
  {
   "cell_type": "markdown",
   "metadata": {},
   "source": [
    "# 3. INTRODUCCIÓN A PYTHON\n",
    "\n",
    "## Ejercicio 8\n",
    "\n",
    "Escriba aquí el enunciado"
   ]
  },
  {
   "cell_type": "code",
   "execution_count": 1,
   "metadata": {},
   "outputs": [
    {
     "ename": "KeyError",
     "evalue": "''",
     "output_type": "error",
     "traceback": [
      "\u001b[1;31m---------------------------------------------------------------------------\u001b[0m",
      "\u001b[1;31mKeyError\u001b[0m                                  Traceback (most recent call last)",
      "\u001b[1;32m~\\AppData\\Local\\Temp/ipykernel_10164/4165544114.py\u001b[0m in \u001b[0;36m<module>\u001b[1;34m\u001b[0m\n\u001b[0;32m      1\u001b[0m \u001b[0mdic_genomas\u001b[0m \u001b[1;33m=\u001b[0m \u001b[1;33m{\u001b[0m\u001b[1;34m\"Saccharomyces cerevisiae unicellular budding yeast\"\u001b[0m\u001b[1;33m:\u001b[0m \u001b[1;36m12\u001b[0m \u001b[1;33m,\u001b[0m \u001b[1;34m\"Trichomonas vaginalis\"\u001b[0m\u001b[1;33m:\u001b[0m \u001b[1;36m160\u001b[0m\u001b[1;33m,\u001b[0m \u001b[1;34m\"Plasmodium falciparum unicellular malaria parasite\"\u001b[0m\u001b[1;33m:\u001b[0m \u001b[1;36m23\u001b[0m\u001b[1;33m,\u001b[0m \u001b[1;34m\"Caenorhabditis elegans nematode\"\u001b[0m\u001b[1;33m:\u001b[0m \u001b[1;36m95.5\u001b[0m\u001b[1;33m}\u001b[0m\u001b[1;33m\u001b[0m\u001b[1;33m\u001b[0m\u001b[0m\n\u001b[1;32m----> 2\u001b[1;33m \u001b[0mespecies\u001b[0m\u001b[1;33m=\u001b[0m \u001b[0mdic_genomas\u001b[0m\u001b[1;33m.\u001b[0m\u001b[0mpop\u001b[0m\u001b[1;33m(\u001b[0m\u001b[1;34m\"\"\u001b[0m\u001b[1;33m)\u001b[0m\u001b[1;33m\u001b[0m\u001b[1;33m\u001b[0m\u001b[0m\n\u001b[0m\u001b[0;32m      3\u001b[0m \u001b[0mespecies\u001b[0m\u001b[1;33m\u001b[0m\u001b[1;33m\u001b[0m\u001b[0m\n\u001b[0;32m      4\u001b[0m \u001b[1;33m\u001b[0m\u001b[0m\n\u001b[0;32m      5\u001b[0m dic_genomes={\"Saccharomyces cerevisiae (unicellular budding yeast)\": [\"12 million\", 6000], \n",
      "\u001b[1;31mKeyError\u001b[0m: ''"
     ]
    }
   ],
   "source": [
    "dic_genomas = {\"Saccharomyces cerevisiae unicellular budding yeast\": 12 , \"Trichomonas vaginalis\": 160, \"Plasmodium falciparum unicellular malaria parasite\": 23, \"Caenorhabditis elegans nematode\": 95.5}\n",
    "especies= dic_genomas.pop(\"\")\n",
    "especies\n",
    "\n",
    "dic_genomes={\"Saccharomyces cerevisiae (unicellular budding yeast)\": [\"12 million\", 6000], \n",
    "              \"Trichomonas vaginalis \": [\"160 million\", 60000], \n",
    "              \"Plasmodium falciparum (unicellular malaria parasite)\": [\"23 million\", 5000], \n",
    "              \"Caenorhabditis elegans (nematode)\": [\"95.5 million\", 18000],\n",
    "              \"Drosophila melanogaster (fruit fly)\": [\"170 million\", 14000],\n",
    "              \"Arabidopsis thaliana (mustard; thale cress)\": [\"125 million\", 25000],\n",
    "              \"Oryza sativa (rice)\": [\"470 million\", 51000],\n",
    "              \"Gallus gallus (chicken)\": [\"1 billion\", 20000-23000],\n",
    "              \"Canis familiaris (domestic dog)\": [\"2.4 billion\", 19000],\n",
    "              \"Mus musculus (laboratory mouse)\": [\"2.5 billion\", 30000],\n",
    "              \"Homo sapiens (human)\": [\"2.9 billion\", 20000-25000]}\n",
    "\n",
    "dic_genomes.items()\n",
    "keys = []\n",
    "values = []\n",
    "\n",
    "\n",
    "for (key, val) in dic_genomes.items():\n",
    "    keys.append(key)\n",
    "    values.append(val)\n",
    "\n",
    "\n",
    "especies=keys\n",
    "\n",
    "\n",
    "genomas=values\n",
    "\n",
    "\n",
    "\n",
    "\n",
    "\n"
   ]
  },
  {
   "cell_type": "markdown",
   "metadata": {},
   "source": [
    "## Ejercicio 9\n",
    "\n",
    "Escriba aquí el enunciado"
   ]
  },
  {
   "cell_type": "code",
   "execution_count": 58,
   "metadata": {},
   "outputs": [
    {
     "data": {
      "text/plain": [
       "'1'"
      ]
     },
     "execution_count": 58,
     "metadata": {},
     "output_type": "execute_result"
    }
   ],
   "source": [
    "lista1 = [\"8,6\", \"18\", \"19,4\", \"13,7\", \"11,1\", \"10,1\", \"10,3\", \"15,6\", \"14,9\", \"9,1\"]\n",
    "#sum(lista1) / l en (lista1)\n",
    "lista1 [-1][2]\n",
    "\n",
    "#lista1.append([\"gbi6\", \"bio1\", \"ikiam\"]) \n",
    "#print(\"Despues de append:\", lista1 [-1] [2])\n",
    "#lista1 [5]\n",
    "#lista1 [8:]-\n",
    "#round(sum(lista1)/len(lista1),3)\n",
    "#lista1.extend([\"gbi6\", \"bio1\", \"ikiam\"])\n",
    "#print(\"Despues de extend:\", lista1)\n"
   ]
  },
  {
   "cell_type": "markdown",
   "metadata": {},
   "source": [
    "## Ejercicio 10\n",
    "\n",
    "Escriba aquí el enunciado"
   ]
  },
  {
   "cell_type": "code",
   "execution_count": 55,
   "metadata": {},
   "outputs": [
    {
     "ename": "SyntaxError",
     "evalue": "unexpected EOF while parsing (Temp/ipykernel_7388/1057850362.py, line 10)",
     "output_type": "error",
     "traceback": [
      "\u001b[1;36m  File \u001b[1;32m\"C:\\Users\\Vanesa\\AppData\\Local\\Temp/ipykernel_7388/1057850362.py\"\u001b[1;36m, line \u001b[1;32m10\u001b[0m\n\u001b[1;33m    \u001b[0m\n\u001b[1;37m    ^\u001b[0m\n\u001b[1;31mSyntaxError\u001b[0m\u001b[1;31m:\u001b[0m unexpected EOF while parsing\n"
     ]
    }
   ],
   "source": [
    "#lista1 = [\"a\", \"b\", \"c\", \"d\", \"e\", \"f\", \"g\", \"h\", \"i\", \"j\"]\n",
    "#lista1 [3]\n",
    "#lista1[2:5]\n",
    "#lista1.append([\"gbi6\", \"bio1\", \"ikiam\"])\n",
    "#print(\"Despues de append:\", lista1[-1][-1]\n",
    "\n",
    "lista1.append([\"gbi6\", \"bio1\", \"ikiam\"])\n",
    "print(\"Despues de append:\", lista1\n",
    "      \n",
    "\n"
   ]
  },
  {
   "cell_type": "code",
   "execution_count": null,
   "metadata": {},
   "outputs": [],
   "source": []
  }
 ],
 "metadata": {
  "kernelspec": {
   "display_name": "Python 3 (ipykernel)",
   "language": "python",
   "name": "python3"
  },
  "language_info": {
   "codemirror_mode": {
    "name": "ipython",
    "version": 3
   },
   "file_extension": ".py",
   "mimetype": "text/x-python",
   "name": "python",
   "nbconvert_exporter": "python",
   "pygments_lexer": "ipython3",
   "version": "3.9.7"
  },
  "latex_envs": {
   "LaTeX_envs_menu_present": true,
   "autoclose": false,
   "autocomplete": true,
   "bibliofile": "biblio.bib",
   "cite_by": "apalike",
   "current_citInitial": 1,
   "eqLabelWithNumbers": true,
   "eqNumInitial": 1,
   "hotkeys": {
    "equation": "Ctrl-E",
    "itemize": "Ctrl-I"
   },
   "labels_anchors": false,
   "latex_user_defs": false,
   "report_style_numbering": false,
   "user_envs_cfg": false
  },
  "toc": {
   "base_numbering": 1,
   "nav_menu": {},
   "number_sections": true,
   "sideBar": false,
   "skip_h1_title": false,
   "title_cell": "Table of Contents",
   "title_sidebar": "Contents",
   "toc_cell": false,
   "toc_position": {
    "height": "1152.67px",
    "left": "41px",
    "top": "110px",
    "width": "253.458px"
   },
   "toc_section_display": true,
   "toc_window_display": false
  },
  "varInspector": {
   "cols": {
    "lenName": 16,
    "lenType": 16,
    "lenVar": 40
   },
   "kernels_config": {
    "python": {
     "delete_cmd_postfix": "",
     "delete_cmd_prefix": "del ",
     "library": "var_list.py",
     "varRefreshCmd": "print(var_dic_list())"
    },
    "r": {
     "delete_cmd_postfix": ") ",
     "delete_cmd_prefix": "rm(",
     "library": "var_list.r",
     "varRefreshCmd": "cat(var_dic_list()) "
    }
   },
   "types_to_exclude": [
    "module",
    "function",
    "builtin_function_or_method",
    "instance",
    "_Feature"
   ],
   "window_display": false
  }
 },
 "nbformat": 4,
 "nbformat_minor": 4
}
